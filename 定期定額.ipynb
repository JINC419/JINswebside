{
  "nbformat": 4,
  "nbformat_minor": 0,
  "metadata": {
    "colab": {
      "provenance": [],
      "authorship_tag": "ABX9TyMtK0I9y9zgmJajfrrHFuTw",
      "include_colab_link": true
    },
    "kernelspec": {
      "name": "python3",
      "display_name": "Python 3"
    },
    "language_info": {
      "name": "python"
    }
  },
  "cells": [
    {
      "cell_type": "markdown",
      "metadata": {
        "id": "view-in-github",
        "colab_type": "text"
      },
      "source": [
        "<a href=\"https://colab.research.google.com/github/JINC419/JINswebside/blob/main/%E5%AE%9A%E6%9C%9F%E5%AE%9A%E9%A1%8D.ipynb\" target=\"_parent\"><img src=\"https://colab.research.google.com/assets/colab-badge.svg\" alt=\"Open In Colab\"/></a>"
      ]
    },
    {
      "cell_type": "code",
      "execution_count": 18,
      "metadata": {
        "colab": {
          "base_uri": "https://localhost:8080/"
        },
        "id": "QHMrhK4Va47I",
        "outputId": "458232ff-78c4-4d82-b62e-68ef3b49cc52"
      },
      "outputs": [
        {
          "output_type": "stream",
          "name": "stdout",
          "text": [
            "請輸入統計的月數: 6\n",
            "請輸入第 1 個月的股價: 100\n",
            "請輸入第 2 個月的股價: 90\n",
            "請輸入第 3 個月的股價: 80\n",
            "請輸入第 4 個月的股價: 70\n",
            "請輸入第 5 個月的股價: 60\n",
            "請輸入第 6 個月的股價: 50\n",
            "最終資產: 42281.74603174603\n",
            "每月購買股數: [100.0, 111.11111111111111, 125.0, 142.85714285714286, 166.66666666666666, 200.0]\n"
          ]
        }
      ],
      "source": [
        "# 讓用戶輸入統計月數\n",
        "num_months = int(input(\"請輸入統計的月數: \"))\n",
        "\n",
        "# 初始化股價列表\n",
        "stock_prices = []\n",
        "\n",
        "# 讓用戶輸入每個月的股價\n",
        "for i in range(num_months):\n",
        "    price = float(input(f\"請輸入第 {i + 1} 個月的股價: \"))\n",
        "    stock_prices.append(price)\n",
        "\n",
        "ini_cost = 10000  # 初始投資金額\n",
        "all_cost = 0  # 總花費\n",
        "\n",
        "mon_shares = []  # 儲存每個月購買的股票數量\n",
        "all_shares = 0  # 儲存總共購買的股票數量\n",
        "last_stock_price = stock_prices[-1]  # 最後一個月的股價\n",
        "\n",
        "# 遍歷每個月的股價\n",
        "for stock_price in stock_prices:\n",
        "    buy_shares = ini_cost / stock_price  # 計算每個月購買的股票數量\n",
        "    mon_shares.append(buy_shares)  # 儲存每月購買的股票數量\n",
        "    all_cost += ini_cost  # 更新總成本\n",
        "\n",
        "# 計算總共購買的股票數量\n",
        "for buy_share in mon_shares:\n",
        "    all_shares += buy_share\n",
        "\n",
        "final_money = all_shares * last_stock_price  # 計算最終資產價值\n",
        "\n",
        "print(\"最終資產:\", final_money)\n",
        "print(\"每月購買股數:\", mon_shares)\n"
      ]
    },
    {
      "cell_type": "code",
      "source": [],
      "metadata": {
        "id": "EhLnAubDf3BU"
      },
      "execution_count": null,
      "outputs": []
    }
  ]
}