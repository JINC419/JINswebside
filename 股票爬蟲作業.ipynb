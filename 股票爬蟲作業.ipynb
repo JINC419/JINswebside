{
  "nbformat": 4,
  "nbformat_minor": 0,
  "metadata": {
    "colab": {
      "provenance": [],
      "authorship_tag": "ABX9TyOauWJ5f+JiSpjVrzXcWG95",
      "include_colab_link": true
    },
    "kernelspec": {
      "name": "python3",
      "display_name": "Python 3"
    },
    "language_info": {
      "name": "python"
    }
  },
  "cells": [
    {
      "cell_type": "markdown",
      "metadata": {
        "id": "view-in-github",
        "colab_type": "text"
      },
      "source": [
        "<a href=\"https://colab.research.google.com/github/JINC419/JINswebside/blob/main/%E8%82%A1%E7%A5%A8%E7%88%AC%E8%9F%B2%E4%BD%9C%E6%A5%AD.ipynb\" target=\"_parent\"><img src=\"https://colab.research.google.com/assets/colab-badge.svg\" alt=\"Open In Colab\"/></a>"
      ]
    },
    {
      "cell_type": "code",
      "execution_count": 80,
      "metadata": {
        "colab": {
          "base_uri": "https://localhost:8080/",
          "height": 245
        },
        "id": "3bk0DEpTaDxm",
        "outputId": "65c3b520-f85e-40aa-b82f-1ac7b2f9e246"
      },
      "outputs": [
        {
          "output_type": "error",
          "ename": "NameError",
          "evalue": "ignored",
          "traceback": [
            "\u001b[0;31m---------------------------------------------------------------------------\u001b[0m",
            "\u001b[0;31mNameError\u001b[0m                                 Traceback (most recent call last)",
            "\u001b[0;32m<ipython-input-80-4b9dba1c5e3e>\u001b[0m in \u001b[0;36m<cell line: 28>\u001b[0;34m()\u001b[0m\n\u001b[1;32m     27\u001b[0m \u001b[0;34m\u001b[0m\u001b[0m\n\u001b[1;32m     28\u001b[0m \u001b[0;32mwith\u001b[0m \u001b[0mopen\u001b[0m\u001b[0;34m(\u001b[0m\u001b[0;34m'Tpe_2330_data.csv'\u001b[0m\u001b[0;34m,\u001b[0m\u001b[0;34m'w'\u001b[0m\u001b[0;34m,\u001b[0m\u001b[0mnewline\u001b[0m\u001b[0;34m=\u001b[0m\u001b[0;34m''\u001b[0m\u001b[0;34m)\u001b[0m \u001b[0;32mas\u001b[0m \u001b[0mfile\u001b[0m\u001b[0;34m:\u001b[0m\u001b[0;34m\u001b[0m\u001b[0;34m\u001b[0m\u001b[0m\n\u001b[0;32m---> 29\u001b[0;31m   \u001b[0mwriter\u001b[0m\u001b[0;34m=\u001b[0m \u001b[0mcsv\u001b[0m\u001b[0;34m.\u001b[0m\u001b[0mwriter\u001b[0m\u001b[0;34m(\u001b[0m\u001b[0mfile\u001b[0m\u001b[0;34m)\u001b[0m\u001b[0;34m\u001b[0m\u001b[0;34m\u001b[0m\u001b[0m\n\u001b[0m\u001b[1;32m     30\u001b[0m   \u001b[0mwriter\u001b[0m\u001b[0;34m.\u001b[0m\u001b[0mwriterow\u001b[0m\u001b[0;34m(\u001b[0m\u001b[0;34m[\u001b[0m\u001b[0;34m'成交價'\u001b[0m\u001b[0;34m,\u001b[0m\u001b[0;34m'漲幅'\u001b[0m\u001b[0;34m,\u001b[0m\u001b[0;34m'開盤'\u001b[0m\u001b[0;34m,\u001b[0m\u001b[0;34m'最高'\u001b[0m\u001b[0;34m,\u001b[0m\u001b[0;34m'最低'\u001b[0m\u001b[0;34m,\u001b[0m\u001b[0;34m'市值'\u001b[0m\u001b[0;34m,\u001b[0m\u001b[0;34m'本益比'\u001b[0m\u001b[0;34m,\u001b[0m\u001b[0;34m'殖利率'\u001b[0m\u001b[0;34m]\u001b[0m\u001b[0;34m)\u001b[0m\u001b[0;34m\u001b[0m\u001b[0;34m\u001b[0m\u001b[0m\n\u001b[1;32m     31\u001b[0m   \u001b[0mwriter\u001b[0m\u001b[0;34m.\u001b[0m\u001b[0mwriterow\u001b[0m\u001b[0;34m(\u001b[0m\u001b[0;34m[\u001b[0m\u001b[0mresults_price\u001b[0m\u001b[0;34m,\u001b[0m\u001b[0mresults_Increase\u001b[0m\u001b[0;34m+\u001b[0m\u001b[0mresults_ratio\u001b[0m\u001b[0;34m,\u001b[0m\u001b[0mOpen\u001b[0m\u001b[0;34m,\u001b[0m\u001b[0mMax\u001b[0m\u001b[0;34m,\u001b[0m\u001b[0mMin\u001b[0m\u001b[0;34m,\u001b[0m\u001b[0mValue\u001b[0m\u001b[0;34m,\u001b[0m\u001b[0mPE\u001b[0m\u001b[0;34m,\u001b[0m\u001b[0mYield\u001b[0m\u001b[0;34m]\u001b[0m\u001b[0;34m)\u001b[0m\u001b[0;34m\u001b[0m\u001b[0;34m\u001b[0m\u001b[0m\n",
            "\u001b[0;31mNameError\u001b[0m: name 'csv' is not defined"
          ]
        }
      ],
      "source": [
        "import pandas as pd\n",
        "import requests\n",
        "from bs4 import BeautifulSoup\n",
        "\n",
        "headers={\"user-agent\": \"Mozilla/5.0 (Windows NT 10.0; Win64; x64) AppleWebKit/537.36 (KHTML, like Gecko) Chrome/98.0.4758.82 Safari/537.36\"}\n",
        "\n",
        "url = 'https://www.google.com/search?q=tpe:2330'    # 台積電 Yahoo 股市網址\n",
        "web = requests.get(url,headers=headers)                          # 取得網頁內容\n",
        "soup = BeautifulSoup(web.text, \"html.parser\")    # 轉換內容\n",
        "\n",
        "results_price = soup.find(\"span\",class_=\"IsqQVc NprOob wT3VGc\")\n",
        "\n",
        "\n",
        "results_Increase = soup.find(\"span\",jsname=\"qRSVye\")\n",
        "results_ratio = soup.find(\"span\",jsname=\"rfaVEf\")\n",
        "\n",
        "\n",
        "results= soup.find_all(\"div\", class_=\"PZPZlf\")\n",
        "data =[result.get_text() for result in results]\n",
        "\n",
        "Open=data[4]\n",
        "Max=data[5]\n",
        "Min=data[6]\n",
        "Value=data[7]\n",
        "PE=data[8]\n",
        "Yield=data[9]\n",
        "\n",
        "with open('Tpe_2330_data.csv','w',newline='') as file:\n",
        "  writer= csv.writer(file)\n",
        "  writer.writerow(['成交價','漲幅','開盤','最高','最低','市值','本益比','殖利率'])\n",
        "  writer.writerow([results_price,results_Increase+results_ratio,Open,Max,Min,Value,PE,Yield])"
      ]
    },
    {
      "cell_type": "code",
      "source": [],
      "metadata": {
        "id": "yxV_4gkomvlT"
      },
      "execution_count": null,
      "outputs": []
    }
  ]
}